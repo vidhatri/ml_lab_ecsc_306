{
 "cells": [
  {
   "cell_type": "code",
   "execution_count": 4,
   "metadata": {},
   "outputs": [
    {
     "name": "stdout",
     "output_type": "stream",
     "text": [
      "121\n"
     ]
    }
   ],
   "source": [
    "##(a+b)2=a2+b2+2ab\n",
    "\n",
    "import tensorflow as tf\n",
    "with tf.name_scope(\"homework1_1\"):\n",
    "    with tf.name_scope(\"a_sq\"):\n",
    "        a=4\n",
    "        x = tf.pow(a,2)\n",
    "    with tf.name_scope(\"b_sq\"):\n",
    "        b=7\n",
    "        y = tf.pow(b,2)\n",
    "\n",
    "    with tf.name_scope(\"2ab\"):\n",
    "        e = tf.multiply(2,tf.multiply(a,b))\n",
    "\n",
    "    with tf.name_scope(\"answer\"):\n",
    "        f = tf.add(tf.add(x,y),e)\n",
    "        \n",
    "   \n",
    "\n",
    "\n",
    "    with tf.Session() as sess:\n",
    "        writer = tf.summary.FileWriter(\"/tmp/tboard/solution1\", sess.graph)\n",
    "        print(sess.run(f))\n",
    "        writer.close()"
   ]
  },
  {
   "cell_type": "code",
   "execution_count": 5,
   "metadata": {},
   "outputs": [
    {
     "name": "stdout",
     "output_type": "stream",
     "text": [
      "1728\n"
     ]
    }
   ],
   "source": [
    "##(a-b)^3=a^3-b^3-3ab(a-b)\n",
    "\n",
    "\n",
    "\n",
    "import tensorflow as tf\n",
    "with tf.name_scope(\"homework1_2\"):\n",
    "    with tf.name_scope(\"a_cube\"):\n",
    "        a=22\n",
    "        x = tf.pow(a,3)\n",
    "    with tf.name_scope(\"b_cube\"):\n",
    "        b=10\n",
    "        y = tf.pow(b,3)\n",
    "\n",
    "    with tf.name_scope(\"3ab\"):\n",
    "        c = tf.multiply(3,tf.multiply(a,b))\n",
    "\n",
    "        \n",
    "    with tf.name_scope(\"a_minus_b\"):\n",
    "        d = tf.subtract(a,b)\n",
    "\n",
    "     \n",
    "    with tf.name_scope(\"3ab_a_minus_b\"):\n",
    "        e = tf.multiply(c,d)\n",
    "\n",
    "           \n",
    "        \n",
    "    with tf.name_scope(\"a_cube-b_cube\"):\n",
    "        f = tf.subtract(x,y)\n",
    "    \n",
    "        \n",
    "    with tf.name_scope(\"soluton\"):\n",
    "        g = tf.subtract(f,e)\n",
    "\n",
    "     \n",
    "\n",
    "    with tf.Session() as sess:\n",
    "        writer = tf.summary.FileWriter(\"/tmp/tboard/solution2\", sess.graph)\n",
    "        print(sess.run(g))\n",
    "        writer.close()\n",
    "\n",
    "\n"
   ]
  },
  {
   "cell_type": "code",
   "execution_count": null,
   "metadata": {
    "collapsed": true
   },
   "outputs": [],
   "source": []
  }
 ],
 "metadata": {
  "kernelspec": {
   "display_name": "Python 3",
   "language": "python",
   "name": "python3"
  },
  "language_info": {
   "codemirror_mode": {
    "name": "ipython",
    "version": 3
   },
   "file_extension": ".py",
   "mimetype": "text/x-python",
   "name": "python",
   "nbconvert_exporter": "python",
   "pygments_lexer": "ipython3",
   "version": "3.6.1"
  }
 },
 "nbformat": 4,
 "nbformat_minor": 2
}
