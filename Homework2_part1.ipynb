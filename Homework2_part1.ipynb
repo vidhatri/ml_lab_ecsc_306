{
 "cells": [
  {
   "cell_type": "code",
   "execution_count": 1,
   "metadata": {
    "collapsed": true
   },
   "outputs": [],
   "source": [
    "## Calculate mean of  X and Y\n",
    "import tensorflow as tf\n",
    "\n",
    "x=tf.constant([5,9,8],dtype=tf.float32)\n",
    "y=tf.constant([7,6,4],dtype=tf.float32)\n",
    "\n",
    "with tf.name_scope(\"mean_x\"):\n",
    "    x_mean=0\n",
    "    y_mean=0\n",
    "    for i in range(3):\n",
    "        x_mean = tf.div(tf.add(x[i],x_mean),3)\n",
    "        y_mean =tf.div(tf.add(y[i],y_mean),3)\n",
    "\n"
   ]
  },
  {
   "cell_type": "code",
   "execution_count": 2,
   "metadata": {
    "collapsed": true
   },
   "outputs": [],
   "source": [
    "## Variance(X)=sum((x-mean(x))^2)\n",
    "\n",
    "with tf.name_scope(\"Variance\"):\n",
    "    VarianceX=0\n",
    "    for i in range(3):\n",
    "        a=tf.subtract(x[i],x_mean)\n",
    "        b=tf.pow(a,2)\n",
    "        VarianceX=tf.add(b,VarianceX)\n",
    "    "
   ]
  },
  {
   "cell_type": "code",
   "execution_count": 3,
   "metadata": {
    "collapsed": true
   },
   "outputs": [],
   "source": [
    "##covariance=sum((x(i)−mean(x))∗(y(i)−mean(y)))ope\n",
    "\n",
    "with tf.name_scope(\"covariance\"):\n",
    "    covarianceX=0\n",
    "    for i in range(3):\n",
    "        covarianceX=tf.add(tf.multiply(tf.subtract(x[i],x_mean),tf.subtract(y[i],y_mean)),covarianceX)"
   ]
  },
  {
   "cell_type": "code",
   "execution_count": 5,
   "metadata": {
    "collapsed": true
   },
   "outputs": [],
   "source": [
    "##m=covariance(x,y)/variance(x)\n",
    "\n",
    "with tf.name_scope(\"M\"):\n",
    "    M=0\n",
    "    for i in range(3):\n",
    "        M=tf.div(covarianceX,VarianceX)"
   ]
  },
  {
   "cell_type": "code",
   "execution_count": null,
   "metadata": {
    "collapsed": true
   },
   "outputs": [],
   "source": [
    "\n"
   ]
  },
  {
   "cell_type": "code",
   "execution_count": 6,
   "metadata": {},
   "outputs": [
    {
     "name": "stdout",
     "output_type": "stream",
     "text": [
      "3.85185\n",
      "2.25926\n",
      "45.0288\n",
      "31.9218\n",
      "0.70892\n",
      "-0.471394\n"
     ]
    }
   ],
   "source": [
    "##c=mean(y)−m∗mean(x)\n",
    "with tf.name_scope(\"C\"):\n",
    "    C=tf.subtract(y_mean,tf.multiply(M,x_mean))\n",
    "with tf.Session() as sess:\n",
    "    writer = tf.summary.FileWriter(\"/tmp/tboard/output1\", sess.graph)\n",
    "    print(sess.run(x_mean))\n",
    "    print(sess.run(y_mean))\n",
    "    print(sess.run(VarianceX))\n",
    "    print(sess.run(covarianceX))\n",
    "    print(sess.run(M))\n",
    "    print(sess.run(C))\n",
    "    writer.close()"
   ]
  },
  {
   "cell_type": "code",
   "execution_count": null,
   "metadata": {
    "collapsed": true
   },
   "outputs": [],
   "source": []
  }
 ],
 "metadata": {
  "kernelspec": {
   "display_name": "Python 3",
   "language": "python",
   "name": "python3"
  },
  "language_info": {
   "codemirror_mode": {
    "name": "ipython",
    "version": 3
   },
   "file_extension": ".py",
   "mimetype": "text/x-python",
   "name": "python",
   "nbconvert_exporter": "python",
   "pygments_lexer": "ipython3",
   "version": "3.6.1"
  }
 },
 "nbformat": 4,
 "nbformat_minor": 2
}
